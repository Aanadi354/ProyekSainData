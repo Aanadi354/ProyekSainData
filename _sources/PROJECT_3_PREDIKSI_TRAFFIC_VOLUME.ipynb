{
 "cells": [
  {
   "cell_type": "markdown",
   "metadata": {},
   "source": [
    "# Tugas 3 - Prediksi Volume Kendaraan Jam-an pada Interstate 94 dengan Pendekatan Random Forest"
   ]
  },
  {
   "cell_type": "markdown",
   "metadata": {
    "id": "8lN3vKdmlU40"
   },
   "source": [
    "**Analisis dan Prediksi Volume Kendaraan Jam-an pada Interstate 94 dengan Pendekatan Random Forest**"
   ]
  },
  {
   "cell_type": "markdown",
   "metadata": {
    "id": "OEXIP5OsldC4"
   },
   "source": [
    "## **1.1 Latar Belakang**\n",
    "\n",
    "Interstate 94 merupakan salah satu jalan tol utama yang menghubungkan kota Minneapolis dan St. Paul, Minnesota, serta menjadi jalur penting bagi mobilitas masyarakat dan aktivitas ekonomi di wilayah tersebut. Jalan ini mengalami variasi volume lalu lintas setiap harinya, yang dipengaruhi oleh berbagai faktor seperti cuaca, waktu, dan hari libur. Kemacetan dan lonjakan volume kendaraan yang tidak terduga dapat menyebabkan kerugian waktu, peningkatan emisi, dan risiko keselamatan bagi pengguna jalan. Oleh karena itu, memahami pola volume kendaraan di jalur ini sangat penting untuk mendukung pengelolaan lalu lintas yang lebih baik.\n",
    "\n",
    "Data historis dari Hourly Interstate 94 Westbound traffic volume memberikan peluang untuk menganalisis dan memprediksi jumlah kendaraan di jalur ini. Selain volume kendaraan, data ini juga mencakup fitur cuaca (suhu, curah hujan, salju) dan informasi hari libur, yang dapat memberikan wawasan tambahan tentang faktor-faktor yang memengaruhi lalu lintas. Dengan membangun model prediksi yang akurat, seperti Random Forest, pihak terkait dapat meningkatkan perencanaan dan pengelolaan transportasi secara signifikan, mengurangi kemacetan, dan menciptakan pengalaman perjalanan yang lebih aman dan efisien."
   ]
  },
  {
   "cell_type": "markdown",
   "metadata": {
    "id": "at5kW4pQmQ8U"
   },
   "source": [
    "## **1.2 Tujuan Analisis**\n",
    "\n",
    "\n",
    "Tujuan dari analisis ini adalah untuk memprediksi jumlah kendaraan yang melintas di Interstate 94 pada setiap jam tertentu dengan menggunakan model Random Forest. Analisis ini juga bertujuan untuk mengidentifikasi variabel-variabel utama yang memengaruhi volume kendaraan, seperti kondisi cuaca (suhu, curah hujan, salju) dan informasi hari libur. Dengan memahami hubungan antara faktor-faktor tersebut dan pola lalu lintas, hasil prediksi diharapkan dapat membantu dalam pengelolaan lalu lintas, pengambilan keputusan operasional, serta perencanaan infrastruktur yang lebih efisien.\n",
    "\n",
    "Tujuan dari analisis ini adalah:  \n",
    "1. **Memprediksi Volume Kendaraan**: Menggunakan model Random Forest untuk memprediksi jumlah kendaraan yang melintas di Interstate 94 pada setiap jam tertentu.  \n",
    "2. **Menganalisis Faktor yang Berpengaruh**: Mengidentifikasi variabel utama seperti cuaca (suhu, curah hujan, salju) dan hari libur yang memengaruhi volume kendaraan.  \n"
   ]
  },
  {
   "cell_type": "markdown",
   "metadata": {
    "id": "5CA7Y_lFqU8H"
   },
   "source": [
    "## **1.3 Rumusan Masalah**\n",
    "\n",
    "Berdasarkan latar belakang yang telah dijelaskan, rumusan masalah dalam analisis ini adalah sebagai berikut:  \n",
    "\n",
    "1. Bagaimana membangun model prediksi yang akurat untuk memproyeksikan volume kendaraan setiap jam di Interstate 94 menggunakan data historis?  \n",
    "2. Faktor apa saja yang paling berpengaruh terhadap perubahan volume kendaraan, seperti kondisi cuaca atau hari libur?  \n",
    "3. Seberapa baik model Random Forest dalam memprediksi volume kendaraan dibandingkan dengan pendekatan lain?  \n"
   ]
  },
  {
   "cell_type": "code",
   "execution_count": null,
   "metadata": {
    "id": "9tFe-6a3if87",
    "outputId": "45ba52a4-b17f-4ab2-cfc6-04cc31f58764"
   },
   "outputs": [
    {
     "data": {
      "text/html": [
       "<div>\n",
       "<style scoped>\n",
       "    .dataframe tbody tr th:only-of-type {\n",
       "        vertical-align: middle;\n",
       "    }\n",
       "\n",
       "    .dataframe tbody tr th {\n",
       "        vertical-align: top;\n",
       "    }\n",
       "\n",
       "    .dataframe thead th {\n",
       "        text-align: right;\n",
       "    }\n",
       "</style>\n",
       "<table border=\"1\" class=\"dataframe\">\n",
       "  <thead>\n",
       "    <tr style=\"text-align: right;\">\n",
       "      <th></th>\n",
       "      <th>holiday</th>\n",
       "      <th>temp</th>\n",
       "      <th>rain_1h</th>\n",
       "      <th>snow_1h</th>\n",
       "      <th>clouds_all</th>\n",
       "      <th>weather_main</th>\n",
       "      <th>weather_description</th>\n",
       "      <th>date_time</th>\n",
       "      <th>traffic_volume</th>\n",
       "    </tr>\n",
       "  </thead>\n",
       "  <tbody>\n",
       "    <tr>\n",
       "      <th>0</th>\n",
       "      <td>NaN</td>\n",
       "      <td>288.28</td>\n",
       "      <td>0.0</td>\n",
       "      <td>0.0</td>\n",
       "      <td>40</td>\n",
       "      <td>Clouds</td>\n",
       "      <td>scattered clouds</td>\n",
       "      <td>2012-10-02 09:00:00</td>\n",
       "      <td>5545</td>\n",
       "    </tr>\n",
       "    <tr>\n",
       "      <th>1</th>\n",
       "      <td>NaN</td>\n",
       "      <td>289.36</td>\n",
       "      <td>0.0</td>\n",
       "      <td>0.0</td>\n",
       "      <td>75</td>\n",
       "      <td>Clouds</td>\n",
       "      <td>broken clouds</td>\n",
       "      <td>2012-10-02 10:00:00</td>\n",
       "      <td>4516</td>\n",
       "    </tr>\n",
       "    <tr>\n",
       "      <th>2</th>\n",
       "      <td>NaN</td>\n",
       "      <td>289.58</td>\n",
       "      <td>0.0</td>\n",
       "      <td>0.0</td>\n",
       "      <td>90</td>\n",
       "      <td>Clouds</td>\n",
       "      <td>overcast clouds</td>\n",
       "      <td>2012-10-02 11:00:00</td>\n",
       "      <td>4767</td>\n",
       "    </tr>\n",
       "    <tr>\n",
       "      <th>3</th>\n",
       "      <td>NaN</td>\n",
       "      <td>290.13</td>\n",
       "      <td>0.0</td>\n",
       "      <td>0.0</td>\n",
       "      <td>90</td>\n",
       "      <td>Clouds</td>\n",
       "      <td>overcast clouds</td>\n",
       "      <td>2012-10-02 12:00:00</td>\n",
       "      <td>5026</td>\n",
       "    </tr>\n",
       "    <tr>\n",
       "      <th>4</th>\n",
       "      <td>NaN</td>\n",
       "      <td>291.14</td>\n",
       "      <td>0.0</td>\n",
       "      <td>0.0</td>\n",
       "      <td>75</td>\n",
       "      <td>Clouds</td>\n",
       "      <td>broken clouds</td>\n",
       "      <td>2012-10-02 13:00:00</td>\n",
       "      <td>4918</td>\n",
       "    </tr>\n",
       "  </tbody>\n",
       "</table>\n",
       "</div>"
      ],
      "text/plain": [
       "  holiday    temp  rain_1h  snow_1h  clouds_all weather_main  \\\n",
       "0     NaN  288.28      0.0      0.0          40       Clouds   \n",
       "1     NaN  289.36      0.0      0.0          75       Clouds   \n",
       "2     NaN  289.58      0.0      0.0          90       Clouds   \n",
       "3     NaN  290.13      0.0      0.0          90       Clouds   \n",
       "4     NaN  291.14      0.0      0.0          75       Clouds   \n",
       "\n",
       "  weather_description            date_time  traffic_volume  \n",
       "0    scattered clouds  2012-10-02 09:00:00            5545  \n",
       "1       broken clouds  2012-10-02 10:00:00            4516  \n",
       "2     overcast clouds  2012-10-02 11:00:00            4767  \n",
       "3     overcast clouds  2012-10-02 12:00:00            5026  \n",
       "4       broken clouds  2012-10-02 13:00:00            4918  "
      ]
     },
     "execution_count": 1,
     "metadata": {},
     "output_type": "execute_result"
    }
   ],
   "source": [
    "import pandas as pd\n",
    "import numpy as np\n",
    "from sklearn.ensemble import RandomForestRegressor\n",
    "from sklearn.model_selection import train_test_split\n",
    "from sklearn.metrics import mean_absolute_percentage_error\n",
    "from sklearn.preprocessing import LabelEncoder\n",
    "\n",
    "# Load dataset\n",
    "file_path = \"Metro_Interstate_Traffic_Volume.csv\"\n",
    "\n",
    "data = pd.read_csv(file_path)\n",
    "data.head()\n"
   ]
  },
  {
   "cell_type": "markdown",
   "metadata": {
    "id": "rzN1qFxlif8_"
   },
   "source": [
    "## VISUALISASI DATA"
   ]
  },
  {
   "cell_type": "code",
   "execution_count": null,
   "metadata": {
    "id": "4pJ7oK2dif9A",
    "outputId": "0a55608b-7fb2-4517-e078-7a4d5022beb2"
   },
   "outputs": [
    {
     "data": {
      "image/png": "[encoded data removed]",
      "text/plain": [
       "<Figure size 1000x600 with 1 Axes>"
      ]
     },
     "metadata": {},
     "output_type": "display_data"
    }
   ],
   "source": [
    "# Statistik deskriptif untuk kolom numerik\n",
    "numeric_stats = data.describe()\n",
    "\n",
    "# Visualisasi distribusi target (traffic_volume)\n",
    "import matplotlib.pyplot as plt\n",
    "import seaborn as sns\n",
    "\n",
    "plt.figure(figsize=(10, 6))\n",
    "sns.histplot(data['traffic_volume'], bins=30, kde=True, color='blue')\n",
    "plt.title('Distribusi Traffic Volume')\n",
    "plt.xlabel('Traffic Volume')\n",
    "plt.ylabel('Frekuensi')\n",
    "plt.show()\n"
   ]
  },
  {
   "cell_type": "markdown",
   "metadata": {
    "id": "_l4dsPEzq4i2"
   },
   "source": [
    "Berdasarkan grafik distribusi traffic volume di atas, berikut adalah penjelasan yang dapat diberikan:\n",
    "\n",
    "1. **Distribusi Traffic Volume**:\n",
    "   - Data traffic volume menunjukkan distribusi yang tidak simetris, dengan beberapa puncak (multimodal). Hal ini mengindikasikan bahwa volume kendaraan memiliki pola tertentu yang mungkin bergantung pada waktu, seperti jam sibuk atau jam-jam tertentu di luar waktu kerja.\n",
    "   - Nilai traffic volume mendominasi di rentang rendah (sekitar 0-1000), yang dapat mengindikasikan periode waktu dengan aktivitas lalu lintas yang sangat rendah, mungkin pada malam hari atau dini hari.\n",
    "\n",
    "2. **Puncak Distribusi**:\n",
    "   - Ada beberapa puncak distribusi pada rentang 4000-5000 dan 5000-6000, yang kemungkinan besar mencerminkan volume kendaraan yang tinggi selama jam sibuk seperti pagi atau sore hari.\n",
    "\n",
    "3. **Skewness**:\n",
    "   - Distribusi data tampaknya *right-skewed* (condong ke kanan), di mana terdapat lebih banyak nilai yang rendah dibandingkan nilai yang tinggi. Ini menunjukkan bahwa periode dengan lalu lintas rendah lebih sering terjadi dibandingkan periode dengan lalu lintas sangat tinggi.\n",
    "\n",
    "4. **Variabilitas Data**:\n",
    "   - Penyebaran data cukup luas, dengan volume kendaraan yang bervariasi dari nilai yang sangat rendah hingga sangat tinggi. Hal ini menunjukkan adanya dinamika lalu lintas yang signifikan pada Interstate 94, yang kemungkinan dipengaruhi oleh faktor eksternal seperti waktu, cuaca, atau hari libur.\n",
    "\n",
    "Grafik ini memberikan wawasan awal yang dapat digunakan untuk menganalisis lebih lanjut faktor-faktor yang memengaruhi traffic volume serta pola-pola penting dalam data."
   ]
  },
  {
   "cell_type": "code",
   "execution_count": null,
   "metadata": {
    "id": "_T37XRRPif9B",
    "outputId": "0fd0f11d-7d96-4e98-b557-43bc7e1c7faa"
   },
   "outputs": [
    {
     "data": {
      "text/html": [
       "<div>\n",
       "<style scoped>\n",
       "    .dataframe tbody tr th:only-of-type {\n",
       "        vertical-align: middle;\n",
       "    }\n",
       "\n",
       "    .dataframe tbody tr th {\n",
       "        vertical-align: top;\n",
       "    }\n",
       "\n",
       "    .dataframe thead th {\n",
       "        text-align: right;\n",
       "    }\n",
       "</style>\n",
       "<table border=\"1\" class=\"dataframe\">\n",
       "  <thead>\n",
       "    <tr style=\"text-align: right;\">\n",
       "      <th></th>\n",
       "      <th>holiday</th>\n",
       "      <th>temp</th>\n",
       "      <th>rain_1h</th>\n",
       "      <th>snow_1h</th>\n",
       "      <th>clouds_all</th>\n",
       "      <th>weather_main</th>\n",
       "      <th>weather_description</th>\n",
       "      <th>date_time</th>\n",
       "      <th>traffic_volume</th>\n",
       "      <th>hour</th>\n",
       "      <th>day</th>\n",
       "      <th>month</th>\n",
       "      <th>year</th>\n",
       "      <th>weekday</th>\n",
       "    </tr>\n",
       "  </thead>\n",
       "  <tbody>\n",
       "    <tr>\n",
       "      <th>0</th>\n",
       "      <td>NaN</td>\n",
       "      <td>288.28</td>\n",
       "      <td>0.0</td>\n",
       "      <td>0.0</td>\n",
       "      <td>40</td>\n",
       "      <td>Clouds</td>\n",
       "      <td>scattered clouds</td>\n",
       "      <td>2012-10-02 09:00:00</td>\n",
       "      <td>5545</td>\n",
       "      <td>9</td>\n",
       "      <td>2</td>\n",
       "      <td>10</td>\n",
       "      <td>2012</td>\n",
       "      <td>1</td>\n",
       "    </tr>\n",
       "    <tr>\n",
       "      <th>1</th>\n",
       "      <td>NaN</td>\n",
       "      <td>289.36</td>\n",
       "      <td>0.0</td>\n",
       "      <td>0.0</td>\n",
       "      <td>75</td>\n",
       "      <td>Clouds</td>\n",
       "      <td>broken clouds</td>\n",
       "      <td>2012-10-02 10:00:00</td>\n",
       "      <td>4516</td>\n",
       "      <td>10</td>\n",
       "      <td>2</td>\n",
       "      <td>10</td>\n",
       "      <td>2012</td>\n",
       "      <td>1</td>\n",
       "    </tr>\n",
       "    <tr>\n",
       "      <th>2</th>\n",
       "      <td>NaN</td>\n",
       "      <td>289.58</td>\n",
       "      <td>0.0</td>\n",
       "      <td>0.0</td>\n",
       "      <td>90</td>\n",
       "      <td>Clouds</td>\n",
       "      <td>overcast clouds</td>\n",
       "      <td>2012-10-02 11:00:00</td>\n",
       "      <td>4767</td>\n",
       "      <td>11</td>\n",
       "      <td>2</td>\n",
       "      <td>10</td>\n",
       "      <td>2012</td>\n",
       "      <td>1</td>\n",
       "    </tr>\n",
       "    <tr>\n",
       "      <th>3</th>\n",
       "      <td>NaN</td>\n",
       "      <td>290.13</td>\n",
       "      <td>0.0</td>\n",
       "      <td>0.0</td>\n",
       "      <td>90</td>\n",
       "      <td>Clouds</td>\n",
       "      <td>overcast clouds</td>\n",
       "      <td>2012-10-02 12:00:00</td>\n",
       "      <td>5026</td>\n",
       "      <td>12</td>\n",
       "      <td>2</td>\n",
       "      <td>10</td>\n",
       "      <td>2012</td>\n",
       "      <td>1</td>\n",
       "    </tr>\n",
       "    <tr>\n",
       "      <th>4</th>\n",
       "      <td>NaN</td>\n",
       "      <td>291.14</td>\n",
       "      <td>0.0</td>\n",
       "      <td>0.0</td>\n",
       "      <td>75</td>\n",
       "      <td>Clouds</td>\n",
       "      <td>broken clouds</td>\n",
       "      <td>2012-10-02 13:00:00</td>\n",
       "      <td>4918</td>\n",
       "      <td>13</td>\n",
       "      <td>2</td>\n",
       "      <td>10</td>\n",
       "      <td>2012</td>\n",
       "      <td>1</td>\n",
       "    </tr>\n",
       "  </tbody>\n",
       "</table>\n",
       "</div>"
      ],
      "text/plain": [
       "  holiday    temp  rain_1h  snow_1h  clouds_all weather_main  \\\n",
       "0     NaN  288.28      0.0      0.0          40       Clouds   \n",
       "1     NaN  289.36      0.0      0.0          75       Clouds   \n",
       "2     NaN  289.58      0.0      0.0          90       Clouds   \n",
       "3     NaN  290.13      0.0      0.0          90       Clouds   \n",
       "4     NaN  291.14      0.0      0.0          75       Clouds   \n",
       "\n",
       "  weather_description           date_time  traffic_volume  hour  day  month  \\\n",
       "0    scattered clouds 2012-10-02 09:00:00            5545     9    2     10   \n",
       "1       broken clouds 2012-10-02 10:00:00            4516    10    2     10   \n",
       "2     overcast clouds 2012-10-02 11:00:00            4767    11    2     10   \n",
       "3     overcast clouds 2012-10-02 12:00:00            5026    12    2     10   \n",
       "4       broken clouds 2012-10-02 13:00:00            4918    13    2     10   \n",
       "\n",
       "   year  weekday  \n",
       "0  2012        1  \n",
       "1  2012        1  \n",
       "2  2012        1  \n",
       "3  2012        1  \n",
       "4  2012        1  "
      ]
     },
     "execution_count": 4,
     "metadata": {},
     "output_type": "execute_result"
    }
   ],
   "source": [
    "# Konversi kolom date_time ke datetime\n",
    "data['date_time'] = pd.to_datetime(data['date_time'])\n",
    "\n",
    "# Ekstraksi fitur waktu\n",
    "data['hour'] = data['date_time'].dt.hour       # Jam\n",
    "data['day'] = data['date_time'].dt.day         # Hari\n",
    "data['month'] = data['date_time'].dt.month     # Bulan\n",
    "data['year'] = data['date_time'].dt.year       # Tahun\n",
    "data['weekday'] = data['date_time'].dt.weekday # Hari dalam minggu (0=Senin)\n",
    "\n",
    "# Menampilkan 5 data pertama setelah ekstraksi fitur waktu\n",
    "data.head()\n"
   ]
  },
  {
   "cell_type": "markdown",
   "metadata": {
    "id": "HscvSqLCif9D"
   },
   "source": [
    "## PREPROCESSING"
   ]
  },
  {
   "cell_type": "markdown",
   "metadata": {
    "id": "lTplvGXfrypo"
   },
   "source": [
    "### Penanaganan Mising Value"
   ]
  },
  {
   "cell_type": "code",
   "execution_count": null,
   "metadata": {
    "id": "-UgdeAQZif9D",
    "outputId": "350137d3-6d4e-4053-c33e-c3df995e3196"
   },
   "outputs": [
    {
     "name": "stderr",
     "output_type": "stream",
     "text": [
      "C:\\Users\\Lenovo Pro\\AppData\\Local\\Temp\\ipykernel_2416\\688818951.py:2: FutureWarning: DataFrame.fillna with 'method' is deprecated and will raise in a future version. Use obj.ffill() or obj.bfill() instead.\n",
      "  data.fillna(method='ffill', inplace=True)\n"
     ]
    }
   ],
   "source": [
    "# Penanganan missing values\n",
    "data.fillna(method='ffill', inplace=True)"
   ]
  },
  {
   "cell_type": "code",
   "execution_count": null,
   "metadata": {
    "id": "xxywPCUbif9E"
   },
   "outputs": [],
   "source": [
    "from sklearn.preprocessing import OneHotEncoder\n",
    "import numpy as np\n",
    "\n",
    "# One-hot encoding untuk fitur kategorikal\n",
    "categorical_features = ['holiday', 'weather_main']\n",
    "encoder = OneHotEncoder(sparse_output=False, drop='first')  # Gunakan sparse_output untuk versi scikit-learn terbaru\n",
    "encoded_categorical = encoder.fit_transform(data[categorical_features])\n",
    "\n",
    "# Menggabungkan hasil encoding dengan dataset\n",
    "encoded_columns = encoder.get_feature_names_out(categorical_features)\n",
    "encoded_df = pd.DataFrame(encoded_categorical, columns=encoded_columns, index=data.index)\n",
    "data = pd.concat([data, encoded_df], axis=1)\n"
   ]
  },
  {
   "cell_type": "code",
   "execution_count": null,
   "metadata": {
    "id": "NNwSR9tQif9E"
   },
   "outputs": [],
   "source": [
    "# Membuat lag features\n",
    "lag_hours = [1, 3, 6]  # Lags untuk 1 jam, 3 jam, dan 6 jam sebelumnya\n",
    "for lag in lag_hours:\n",
    "    data[f'traffic_volume_lag_{lag}'] = data['traffic_volume'].shift(lag)"
   ]
  },
  {
   "cell_type": "code",
   "execution_count": null,
   "metadata": {
    "id": "J67Byk57if9E"
   },
   "outputs": [],
   "source": [
    "# Seleksi fitur yang digunakan\n",
    "selected_features = [\n",
    "    'temp', 'rain_1h', 'snow_1h', 'clouds_all',\n",
    "    'hour', 'weekday', 'month',\n",
    "    *encoded_columns,  # Fitur hasil encoding\n",
    "    *[f'traffic_volume_lag_{lag}' for lag in lag_hours]  # Lag features\n",
    "]"
   ]
  },
  {
   "cell_type": "code",
   "execution_count": null,
   "metadata": {
    "id": "Hm4VTv8Dif9E"
   },
   "outputs": [],
   "source": [
    "# Menghapus baris dengan nilai NaN akibat lagging\n",
    "data = data.dropna()"
   ]
  },
  {
   "cell_type": "code",
   "execution_count": null,
   "metadata": {
    "id": "gp5OrlD6if9F",
    "outputId": "88de32f7-e6db-49df-f458-b526cb28d791"
   },
   "outputs": [
    {
     "name": "stdout",
     "output_type": "stream",
     "text": [
      "Fitur yang digunakan:\n",
      "['temp', 'rain_1h', 'snow_1h', 'clouds_all', 'hour', 'weekday', 'month', 'holiday_Columbus Day', 'holiday_Independence Day', 'holiday_Labor Day', 'holiday_Martin Luther King Jr Day', 'holiday_Memorial Day', 'holiday_New Years Day', 'holiday_State Fair', 'holiday_Thanksgiving Day', 'holiday_Veterans Day', 'holiday_Washingtons Birthday', 'holiday_nan', 'weather_main_Clouds', 'weather_main_Drizzle', 'weather_main_Fog', 'weather_main_Haze', 'weather_main_Mist', 'weather_main_Rain', 'weather_main_Smoke', 'weather_main_Snow', 'weather_main_Squall', 'weather_main_Thunderstorm', 'traffic_volume_lag_1', 'traffic_volume_lag_3', 'traffic_volume_lag_6']\n",
      "Shape dataset setelah preprocessing: (48078, 31)\n"
     ]
    }
   ],
   "source": [
    "# Memisahkan fitur dan target\n",
    "X = data[selected_features]\n",
    "y = data['traffic_volume']\n",
    "\n",
    "# Tampilkan informasi dataset setelah preprocessing\n",
    "print(f\"Fitur yang digunakan:\\n{selected_features}\")\n",
    "print(f\"Shape dataset setelah preprocessing: {X.shape}\")"
   ]
  },
  {
   "cell_type": "code",
   "execution_count": null,
   "metadata": {
    "id": "sjLEsJmKif9F"
   },
   "outputs": [],
   "source": [
    "# Misalnya, data dan model sudah siap\n",
    "features = data.columns.tolist()  # Kolom dari dataframe Anda yang digunakan dalam pelatihan\n"
   ]
  },
  {
   "cell_type": "code",
   "execution_count": null,
   "metadata": {
    "id": "Igyqxn-eif9F"
   },
   "outputs": [],
   "source": [
    "# Simpan fitur ke file .npy\n",
    "np.save('path_to_feature_names.npy', features)"
   ]
  },
  {
   "cell_type": "markdown",
   "metadata": {
    "id": "A1bO4Mceif9F"
   },
   "source": [
    "## PROCESSING"
   ]
  },
  {
   "cell_type": "code",
   "execution_count": null,
   "metadata": {
    "id": "Ayu89Wlgif9F",
    "outputId": "88847208-93fd-429b-ed25-3ec52266676e"
   },
   "outputs": [
    {
     "name": "stdout",
     "output_type": "stream",
     "text": [
      "Shape X_train: (38462, 31), X_test: (9616, 31)\n",
      "Shape y_train: (38462,), y_test: (9616,)\n"
     ]
    }
   ],
   "source": [
    "from sklearn.model_selection import train_test_split\n",
    "\n",
    "# Pembagian data (80% train, 20% test)\n",
    "X_train, X_test, y_train, y_test = train_test_split(X, y, test_size=0.2, random_state=42, shuffle=False)\n",
    "\n",
    "print(f\"Shape X_train: {X_train.shape}, X_test: {X_test.shape}\")\n",
    "print(f\"Shape y_train: {y_train.shape}, y_test: {y_test.shape}\")\n"
   ]
  },
  {
   "cell_type": "code",
   "execution_count": null,
   "metadata": {
    "id": "mW3641eRif9G"
   },
   "outputs": [],
   "source": [
    "from sklearn.ensemble import RandomForestRegressor\n",
    "\n",
    "# Inisialisasi model\n",
    "rf_model = RandomForestRegressor(n_estimators=100, random_state=42)\n",
    "\n",
    "# Melatih model\n",
    "rf_model.fit(X_train, y_train)\n",
    "\n",
    "# Prediksi pada data uji\n",
    "y_pred = rf_model.predict(X_test)\n"
   ]
  },
  {
   "cell_type": "code",
   "execution_count": null,
   "metadata": {
    "id": "v8XB-hbPif9G",
    "outputId": "fcaef5ee-2252-4b5e-b29f-e4330e70fd6d"
   },
   "outputs": [
    {
     "name": "stdout",
     "output_type": "stream",
     "text": [
      "Mean Squared Error (MSE): 64098.21\n",
      "Root Mean Squared Error (RMSE): 253.18\n",
      "R-squared (R²): 0.98\n",
      "Mean Absolute Percentage Error (MAPE): 7.06%\n"
     ]
    }
   ],
   "source": [
    "from sklearn.metrics import mean_squared_error, r2_score\n",
    "\n",
    "# Fungsi untuk menghitung MAPE\n",
    "def mean_absolute_percentage_error(y_true, y_pred):\n",
    "    y_true, y_pred = np.array(y_true), np.array(y_pred)\n",
    "    return np.mean(np.abs((y_true - y_pred) / y_true)) * 100\n",
    "\n",
    "# Menghitung MSE, RMSE, R2, dan MAPE\n",
    "mse = mean_squared_error(y_test, y_pred)\n",
    "rmse = mse ** 0.5\n",
    "r2 = r2_score(y_test, y_pred)\n",
    "mape = mean_absolute_percentage_error(y_test, y_pred)\n",
    "\n",
    "# Menampilkan hasil evaluasi\n",
    "print(f\"Mean Squared Error (MSE): {mse:.2f}\")\n",
    "print(f\"Root Mean Squared Error (RMSE): {rmse:.2f}\")\n",
    "print(f\"R-squared (R²): {r2:.2f}\")\n",
    "print(f\"Mean Absolute Percentage Error (MAPE): {mape:.2f}%\")\n"
   ]
  },
  {
   "cell_type": "code",
   "execution_count": null,
   "metadata": {
    "id": "c_4ta6Plif9G",
    "outputId": "3dbbd824-7a42-442b-f5bb-d72161b6f3c9"
   },
   "outputs": [
    {
     "data": {
      "image/png": "[encoded data removed]",
      "text/plain": [
       "<Figure size 1200x600 with 1 Axes>"
      ]
     },
     "metadata": {},
     "output_type": "display_data"
    }
   ],
   "source": [
    "import matplotlib.pyplot as plt\n",
    "\n",
    "plt.figure(figsize=(12, 6))\n",
    "plt.plot(y_test.values[:100], label='Actual')\n",
    "plt.plot(y_pred[:100], label='Predicted')\n",
    "plt.legend()\n",
    "plt.title('Actual vs Predicted Traffic Volume')\n",
    "plt.show()\n"
   ]
  },
  {
   "cell_type": "code",
   "execution_count": null,
   "metadata": {
    "id": "dnUG9Vgkif9G",
    "outputId": "36f711b7-42f6-442f-da01-7dc8ef14e671"
   },
   "outputs": [
    {
     "data": {
      "text/plain": [
       "['random_forest_model_project3.pkl']"
      ]
     },
     "execution_count": 18,
     "metadata": {},
     "output_type": "execute_result"
    }
   ],
   "source": [
    "import joblib\n",
    "\n",
    "# Simpan model ke file\n",
    "joblib.dump(rf_model, 'random_forest_model_project3.pkl')\n"
   ]
  },
  {
   "cell_type": "code",
   "execution_count": null,
   "metadata": {
    "id": "Jm5Ghn0bif9G",
    "outputId": "732744d2-afb8-4eb1-81ce-27ddfb1ce97a"
   },
   "outputs": [
    {
     "name": "stdout",
     "output_type": "stream",
     "text": [
      "Overwriting app.py\n"
     ]
    }
   ],
   "source": [
    "# %%writefile app.py\n",
    "import streamlit as st\n",
    "import pandas as pd\n",
    "import numpy as np\n",
    "import joblib\n",
    "\n",
    "# Load model\n",
    "model = joblib.load('random_forest_model_project3.pkl')\n",
    "\n",
    "# Load feature names (assuming feature names were saved separately)\n",
    "feature_names = np.load('path_to_feature_names.npy', allow_pickle=True)\n",
    "\n",
    "# Fungsi untuk prediksi multistep\n",
    "def predict_multistep(input_features, steps):\n",
    "    predictions = []\n",
    "    current_input = np.array(input_features).reshape(1, -1)\n",
    "    for _ in range(steps):\n",
    "        pred = model.predict(current_input)[0]\n",
    "        predictions.append(pred)\n",
    "        # Update input dengan prediksi baru\n",
    "        current_input = np.roll(current_input, -1, axis=1)  # Geser input\n",
    "        current_input[0, -1] = pred  # Tambahkan prediksi baru ke input\n",
    "    return predictions\n",
    "\n",
    "# UI Streamlit\n",
    "st.title(\"Prediksi Volume Lalu Lintas\")\n",
    "\n",
    "# Input jumlah jam prediksi\n",
    "steps = st.number_input(\"Jumlah Jam yang Diprediksi\", min_value=1, max_value=24, value=3)\n",
    "\n",
    "# Tombol untuk prediksi\n",
    "if st.button(\"Prediksi\"):\n",
    "    # Gunakan data default untuk input fitur\n",
    "    default_input_features = [290.0, 0.0, 0.0, 40.0, 12, 0, 1] + [0] * 21 + [4000.0, 4200.0, 4500.0]  # Nilai default untuk masing-masing fitur\n",
    "    predictions = predict_multistep(default_input_features, steps)\n",
    "    st.write(f\"Prediksi Volume Lalu Lintas untuk {steps} Jam ke Depan:\")\n",
    "    for i, pred in enumerate(predictions, 1):\n",
    "        st.write(f\"Jam {i}: {pred:.2f}\")\n",
    "\n"
   ]
  },
  {
   "cell_type": "code",
   "execution_count": null,
   "metadata": {
    "id": "hazXX4M0if9H",
    "outputId": "2a856b2d-4cc8-4a69-ebdb-7462421c02be"
   },
   "outputs": [
    {
     "name": "stderr",
     "output_type": "stream",
     "text": [
      "'wget' is not recognized as an internal or external command,\n",
      "operable program or batch file.\n"
     ]
    }
   ],
   "source": [
    "!wget -q -O - ipv4.icanhazip.com"
   ]
  },
  {
   "cell_type": "code",
   "execution_count": null,
   "metadata": {
    "id": "XPlWh_YCif9H",
    "outputId": "3174c647-58db-47d5-d0f7-3c4588847c19"
   },
   "outputs": [
    {
     "name": "stdout",
     "output_type": "stream",
     "text": [
      "^C\n"
     ]
    }
   ],
   "source": [
    "!streamlit run app.py & npx localturnel --port 8501"
   ]
  },
  {
   "cell_type": "markdown",
   "metadata": {},
   "source": [
    "Saya juga membangun aplikasi untuk memudahkan dalam memprediksi dengan menggunakan streamlit. berikut adalah link nya :\n",
    "https://huggingface.co/spaces/Aanadi/ProyekSainData\n"
   ]
  }
 ],
 "metadata": {
  "colab": {
   "provenance": [],
   "toc_visible": true
  },
  "kernelspec": {
   "display_name": "Python 3",
   "language": "python",
   "name": "python3"
  },
  "language_info": {
   "codemirror_mode": {
    "name": "ipython",
    "version": 3
   },
   "file_extension": ".py",
   "mimetype": "text/x-python",
   "name": "python",
   "nbconvert_exporter": "python",
   "pygments_lexer": "ipython3",
   "version": "3.11.0"
  }
 },
 "nbformat": 4,
 "nbformat_minor": 0
}
